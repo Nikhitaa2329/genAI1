{
  "nbformat": 4,
  "nbformat_minor": 0,
  "metadata": {
    "colab": {
      "provenance": [],
      "authorship_tag": "ABX9TyMw7eNRfoaWfqeC6Tt5uIAT",
      "include_colab_link": true
    },
    "kernelspec": {
      "name": "python3",
      "display_name": "Python 3"
    },
    "language_info": {
      "name": "python"
    }
  },
  "cells": [
    {
      "cell_type": "markdown",
      "metadata": {
        "id": "view-in-github",
        "colab_type": "text"
      },
      "source": [
        "<a href=\"https://colab.research.google.com/github/Nikhitaa2329/genAI1/blob/main/spam.ipynb\" target=\"_parent\"><img src=\"https://colab.research.google.com/assets/colab-badge.svg\" alt=\"Open In Colab\"/></a>"
      ]
    },
    {
      "cell_type": "code",
      "execution_count": 1,
      "metadata": {
        "colab": {
          "base_uri": "https://localhost:8080/"
        },
        "id": "nkCIdzUsfdLb",
        "outputId": "de80a2c5-0aff-430e-9623-660c5f51d054"
      },
      "outputs": [
        {
          "output_type": "stream",
          "name": "stdout",
          "text": [
            "Requirement already satisfied: pandas in /usr/local/lib/python3.11/dist-packages (2.2.2)\n",
            "Requirement already satisfied: scikit-learn in /usr/local/lib/python3.11/dist-packages (1.6.1)\n",
            "Requirement already satisfied: numpy>=1.23.2 in /usr/local/lib/python3.11/dist-packages (from pandas) (1.26.4)\n",
            "Requirement already satisfied: python-dateutil>=2.8.2 in /usr/local/lib/python3.11/dist-packages (from pandas) (2.8.2)\n",
            "Requirement already satisfied: pytz>=2020.1 in /usr/local/lib/python3.11/dist-packages (from pandas) (2025.1)\n",
            "Requirement already satisfied: tzdata>=2022.7 in /usr/local/lib/python3.11/dist-packages (from pandas) (2025.1)\n",
            "Requirement already satisfied: scipy>=1.6.0 in /usr/local/lib/python3.11/dist-packages (from scikit-learn) (1.13.1)\n",
            "Requirement already satisfied: joblib>=1.2.0 in /usr/local/lib/python3.11/dist-packages (from scikit-learn) (1.4.2)\n",
            "Requirement already satisfied: threadpoolctl>=3.1.0 in /usr/local/lib/python3.11/dist-packages (from scikit-learn) (3.5.0)\n",
            "Requirement already satisfied: six>=1.5 in /usr/local/lib/python3.11/dist-packages (from python-dateutil>=2.8.2->pandas) (1.17.0)\n",
            "📄 Sample Data:\n",
            "  label                                            message\n",
            "0   ham  Go until jurong point, crazy.. Available only ...\n",
            "1   ham                      Ok lar... Joking wif u oni...\n",
            "2  spam  Free entry in 2 a wkly comp to win FA Cup fina...\n",
            "3   ham  U dun say so early hor... U c already then say...\n",
            "4   ham  Nah I don't think he goes to usf, he lives aro...\n",
            "\n",
            "✅ Accuracy: 0.9885139985642498\n",
            "\n",
            "🧾 Classification Report:\n",
            "               precision    recall  f1-score   support\n",
            "\n",
            "           0       0.99      1.00      0.99      1207\n",
            "           1       0.98      0.94      0.96       186\n",
            "\n",
            "    accuracy                           0.99      1393\n",
            "   macro avg       0.98      0.97      0.97      1393\n",
            "weighted avg       0.99      0.99      0.99      1393\n",
            "\n",
            "🧩 Confusion Matrix:\n",
            " [[1203    4]\n",
            " [  12  174]]\n",
            "\n",
            "📩 Enter a message to check if it's spam: hello\n",
            "🔍 Prediction: ✅ Not Spam\n"
          ]
        }
      ],
      "source": [
        "# Step 1: Install Required Libraries (if not already installed)\n",
        "!pip install pandas scikit-learn\n",
        "\n",
        "# Step 2: Import Libraries\n",
        "import pandas as pd\n",
        "from sklearn.model_selection import train_test_split\n",
        "from sklearn.feature_extraction.text import CountVectorizer\n",
        "from sklearn.naive_bayes import MultinomialNB\n",
        "from sklearn.metrics import accuracy_score, confusion_matrix, classification_report\n",
        "\n",
        "# Step 3: Load the dataset\n",
        "url = \"https://raw.githubusercontent.com/justmarkham/pycon-2016-tutorial/master/data/sms.tsv\"\n",
        "df = pd.read_csv(url, sep=\"\\t\", header=None, names=[\"label\", \"message\"])\n",
        "\n",
        "print(\"📄 Sample Data:\")\n",
        "print(df.head())\n",
        "\n",
        "# Step 4: Preprocess and Encode Labels\n",
        "df['label_num'] = df.label.map({'ham': 0, 'spam': 1})\n",
        "\n",
        "# Step 5: Split Data\n",
        "X = df['message']\n",
        "y = df['label_num']\n",
        "X_train, X_test, y_train, y_test = train_test_split(X, y, test_size=0.25, random_state=42)\n",
        "\n",
        "# Step 6: Text Vectorization (Bag of Words)\n",
        "vectorizer = CountVectorizer()\n",
        "X_train_counts = vectorizer.fit_transform(X_train)\n",
        "X_test_counts = vectorizer.transform(X_test)\n",
        "\n",
        "# Step 7: Train Model\n",
        "model = MultinomialNB()\n",
        "model.fit(X_train_counts, y_train)\n",
        "\n",
        "# Step 8: Predict and Evaluate\n",
        "y_pred = model.predict(X_test_counts)\n",
        "\n",
        "print(\"\\n✅ Accuracy:\", accuracy_score(y_test, y_pred))\n",
        "print(\"\\n🧾 Classification Report:\\n\", classification_report(y_test, y_pred))\n",
        "print(\"🧩 Confusion Matrix:\\n\", confusion_matrix(y_test, y_pred))\n",
        "\n",
        "# Step 9: Test with your own message\n",
        "def predict_spam(text):\n",
        "    text_transformed = vectorizer.transform([text])\n",
        "    prediction = model.predict(text_transformed)[0]\n",
        "    return \"🚫 Spam\" if prediction == 1 else \"✅ Not Spam\"\n",
        "\n",
        "# 🔍 Try your own message\n",
        "msg = input(\"\\n📩 Enter a message to check if it's spam: \")\n",
        "print(\"🔍 Prediction:\", predict_spam(msg))\n",
        "\n",
        "\n"
      ]
    }
  ]
}