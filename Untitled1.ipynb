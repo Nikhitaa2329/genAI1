{
  "nbformat": 4,
  "nbformat_minor": 0,
  "metadata": {
    "colab": {
      "provenance": [],
      "authorship_tag": "ABX9TyN+5N5+GTIKt67diLf4OrTs",
      "include_colab_link": true
    },
    "kernelspec": {
      "name": "python3",
      "display_name": "Python 3"
    },
    "language_info": {
      "name": "python"
    }
  },
  "cells": [
    {
      "cell_type": "markdown",
      "metadata": {
        "id": "view-in-github",
        "colab_type": "text"
      },
      "source": [
        "<a href=\"https://colab.research.google.com/github/Nikhitaa2329/genAI1/blob/main/Untitled1.ipynb\" target=\"_parent\"><img src=\"https://colab.research.google.com/assets/colab-badge.svg\" alt=\"Open In Colab\"/></a>"
      ]
    },
    {
      "cell_type": "code",
      "execution_count": null,
      "metadata": {
        "colab": {
          "base_uri": "https://localhost:8080/",
          "height": 646
        },
        "id": "RyipuLrH058E",
        "outputId": "e1bb93d3-36d4-4d91-ca62-2c835ab39590"
      },
      "outputs": [
        {
          "output_type": "stream",
          "name": "stdout",
          "text": [
            "Running Gradio in a Colab notebook requires sharing enabled. Automatically setting `share=True` (you can turn this off by setting `share=False` in `launch()` explicitly).\n",
            "\n",
            "Colab notebook detected. To show errors in colab notebook, set debug=True in launch()\n",
            "* Running on public URL: https://a18abf57be5d7a604b.gradio.live\n",
            "\n",
            "This share link expires in 72 hours. For free permanent hosting and GPU upgrades, run `gradio deploy` from the terminal in the working directory to deploy to Hugging Face Spaces (https://huggingface.co/spaces)\n"
          ]
        },
        {
          "output_type": "display_data",
          "data": {
            "text/plain": [
              "<IPython.core.display.HTML object>"
            ],
            "text/html": [
              "<div><iframe src=\"https://a18abf57be5d7a604b.gradio.live\" width=\"100%\" height=\"500\" allow=\"autoplay; camera; microphone; clipboard-read; clipboard-write;\" frameborder=\"0\" allowfullscreen></iframe></div>"
            ]
          },
          "metadata": {}
        },
        {
          "output_type": "execute_result",
          "data": {
            "text/plain": []
          },
          "metadata": {},
          "execution_count": 3
        }
      ],
      "source": [
        "import gradio as gr\n",
        "import numpy as np\n",
        "import pandas as pd\n",
        "from sklearn.model_selection import train_test_split\n",
        "from sklearn.linear_model import LinearRegression\n",
        "from sklearn.preprocessing import StandardScaler\n",
        "\n",
        "# Sample dataset (Replace with real data)\n",
        "data = pd.DataFrame({\n",
        "    \"sqft\": [1000, 1500, 2000, 2500, 3000, 3500],\n",
        "    \"bedrooms\": [2, 3, 3, 4, 4, 5],\n",
        "    \"price\": [200000, 250000, 300000, 350000, 400000, 450000]\n",
        "})\n",
        "\n",
        "# Features & Labels\n",
        "X = data[[\"sqft\", \"bedrooms\"]]\n",
        "y = data[\"price\"]\n",
        "\n",
        "# Train Model\n",
        "scaler = StandardScaler()\n",
        "X_scaled = scaler.fit_transform(X)\n",
        "model = LinearRegression()\n",
        "model.fit(X_scaled, y)\n",
        "\n",
        "# Prediction Function\n",
        "def predict_price(sqft, bedrooms):\n",
        "    input_data = np.array([[sqft, bedrooms]])\n",
        "    input_scaled = scaler.transform(input_data)\n",
        "    price = model.predict(input_scaled)[0]\n",
        "    return f\"Estimated House Price: ${price:,.2f}\"\n",
        "\n",
        "# Gradio Interface\n",
        "iface = gr.Interface(\n",
        "    fn=predict_price,\n",
        "    inputs=[gr.Number(label=\"Square Feet\"), gr.Number(label=\"Bedrooms\")],\n",
        "    outputs=gr.Textbox(label=\"Predicted Price\"),\n",
        "    title=\"House Price Prediction\",\n",
        "    description=\"Enter the house details to predict its price.\"\n",
        ")\n",
        "\n",
        "iface.launch()\n"
      ]
    },
    {
      "cell_type": "code",
      "source": [
        "import gradio as gr\n",
        "import numpy as np\n",
        "import pandas as pd\n",
        "from sklearn.model_selection import train_test_split\n",
        "from sklearn.linear_model import LogisticRegression\n",
        "from sklearn.preprocessing import StandardScaler, LabelEncoder\n",
        "\n",
        "# Sample Dataset (Replace with real data)\n",
        "data = pd.DataFrame({\n",
        "    \"sqft\": [1000, 1500, 2000, 2500, 3000, 3500],\n",
        "    \"bedrooms\": [2, 3, 3, 4, 4, 5],\n",
        "    \"price\": [200000, 250000, 300000, 350000, 400000, 450000]\n",
        "})\n",
        "\n",
        "# Convert Prices into Categories\n",
        "def categorize_price(price):\n",
        "    if price < 260000:\n",
        "        return \"Low\"\n",
        "    elif price < 360000:\n",
        "        return \"Medium\"\n",
        "    else:\n",
        "        return \"High\"\n",
        "\n",
        "data[\"price_category\"] = data[\"price\"].apply(categorize_price)\n",
        "\n",
        "# Features & Labels\n",
        "X = data[[\"sqft\", \"bedrooms\"]]\n",
        "y = data[\"price_category\"]\n",
        "\n",
        "# Encode Labels\n",
        "label_encoder = LabelEncoder()\n",
        "y_encoded = label_encoder.fit_transform(y)\n",
        "\n",
        "# Train Model\n",
        "scaler = StandardScaler()\n",
        "X_scaled = scaler.fit_transform(X)\n",
        "model = LogisticRegression()\n",
        "model.fit(X_scaled, y_encoded)\n",
        "\n",
        "# Prediction Function\n",
        "def predict_category(sqft, bedrooms):\n",
        "    input_data = np.array([[sqft, bedrooms]])\n",
        "    input_scaled = scaler.transform(input_data)\n",
        "    prediction = model.predict(input_scaled)[0]\n",
        "    category = label_encoder.inverse_transform([prediction])[0]\n",
        "    return f\"Predicted Price Category: {category}\"\n",
        "\n",
        "# Gradio Interface\n",
        "iface = gr.Interface(\n",
        "    fn=predict_category,\n",
        "    inputs=[gr.Number(label=\"Square Feet\"), gr.Number(label=\"Bedrooms\")],\n",
        "    outputs=gr.Textbox(label=\"Price Category\"),\n",
        "    title=\"House Price Category Prediction\",\n",
        "    description=\"Enter the house details to predict its price category (Low, Medium, High).\"\n",
        ")\n",
        "\n",
        "iface.launch()\n"
      ],
      "metadata": {
        "colab": {
          "base_uri": "https://localhost:8080/",
          "height": 646
        },
        "id": "CM8NBp6U24Ac",
        "outputId": "15dbf7bb-e65f-4787-e640-ceebacc4d8b8"
      },
      "execution_count": null,
      "outputs": [
        {
          "output_type": "stream",
          "name": "stdout",
          "text": [
            "Running Gradio in a Colab notebook requires sharing enabled. Automatically setting `share=True` (you can turn this off by setting `share=False` in `launch()` explicitly).\n",
            "\n",
            "Colab notebook detected. To show errors in colab notebook, set debug=True in launch()\n",
            "* Running on public URL: https://84f42eca5a45ed8e5e.gradio.live\n",
            "\n",
            "This share link expires in 72 hours. For free permanent hosting and GPU upgrades, run `gradio deploy` from the terminal in the working directory to deploy to Hugging Face Spaces (https://huggingface.co/spaces)\n"
          ]
        },
        {
          "output_type": "display_data",
          "data": {
            "text/plain": [
              "<IPython.core.display.HTML object>"
            ],
            "text/html": [
              "<div><iframe src=\"https://84f42eca5a45ed8e5e.gradio.live\" width=\"100%\" height=\"500\" allow=\"autoplay; camera; microphone; clipboard-read; clipboard-write;\" frameborder=\"0\" allowfullscreen></iframe></div>"
            ]
          },
          "metadata": {}
        },
        {
          "output_type": "execute_result",
          "data": {
            "text/plain": []
          },
          "metadata": {},
          "execution_count": 4
        }
      ]
    },
    {
      "cell_type": "code",
      "source": [
        "import gradio as gr\n",
        "import numpy as np\n",
        "import pandas as pd\n",
        "from sklearn.model_selection import train_test_split\n",
        "from sklearn.tree import DecisionTreeRegressor\n",
        "from sklearn.preprocessing import StandardScaler\n",
        "\n",
        "# Sample dataset (Replace with real data)\n",
        "data = pd.DataFrame({\n",
        "    \"sqft\": [1000, 1500, 2000, 2500, 3000, 3500],\n",
        "    \"bedrooms\": [2, 3, 3, 4, 4, 5],\n",
        "    \"price\": [200000, 250000, 300000, 350000, 400000, 450000]\n",
        "})\n",
        "\n",
        "# Features & Labels\n",
        "X = data[[\"sqft\", \"bedrooms\"]]\n",
        "y = data[\"price\"]\n",
        "\n",
        "# Train Model\n",
        "scaler = StandardScaler()\n",
        "X_scaled = scaler.fit_transform(X)\n",
        "model = DecisionTreeRegressor()\n",
        "model.fit(X_scaled, y)\n",
        "\n",
        "# Prediction Function\n",
        "def predict_price(sqft, bedrooms):\n",
        "    input_data = np.array([[sqft, bedrooms]])\n",
        "    input_scaled = scaler.transform(input_data)\n",
        "    price = model.predict(input_scaled)[0]\n",
        "    return f\"Estimated House Price: ${price:,.2f}\"\n",
        "\n",
        "# Gradio Interface\n",
        "iface = gr.Interface(\n",
        "    fn=predict_price,\n",
        "    inputs=[gr.Number(label=\"Square Feet\"), gr.Number(label=\"Bedrooms\")],\n",
        "    outputs=gr.Textbox(label=\"Predicted Price\"),\n",
        "    title=\"House Price Prediction using Decision Tree\",\n",
        "    description=\"Enter the house details to predict its price.\"\n",
        ")\n",
        "\n",
        "iface.launch()\n"
      ],
      "metadata": {
        "colab": {
          "base_uri": "https://localhost:8080/",
          "height": 646
        },
        "id": "grAZ0wDt4GhN",
        "outputId": "6b1ca65c-b8ad-4971-cda1-9cb01e705c44"
      },
      "execution_count": null,
      "outputs": [
        {
          "output_type": "stream",
          "name": "stdout",
          "text": [
            "Running Gradio in a Colab notebook requires sharing enabled. Automatically setting `share=True` (you can turn this off by setting `share=False` in `launch()` explicitly).\n",
            "\n",
            "Colab notebook detected. To show errors in colab notebook, set debug=True in launch()\n",
            "* Running on public URL: https://d394fd963bd6012e27.gradio.live\n",
            "\n",
            "This share link expires in 72 hours. For free permanent hosting and GPU upgrades, run `gradio deploy` from the terminal in the working directory to deploy to Hugging Face Spaces (https://huggingface.co/spaces)\n"
          ]
        },
        {
          "output_type": "display_data",
          "data": {
            "text/plain": [
              "<IPython.core.display.HTML object>"
            ],
            "text/html": [
              "<div><iframe src=\"https://d394fd963bd6012e27.gradio.live\" width=\"100%\" height=\"500\" allow=\"autoplay; camera; microphone; clipboard-read; clipboard-write;\" frameborder=\"0\" allowfullscreen></iframe></div>"
            ]
          },
          "metadata": {}
        },
        {
          "output_type": "execute_result",
          "data": {
            "text/plain": []
          },
          "metadata": {},
          "execution_count": 5
        }
      ]
    },
    {
      "cell_type": "code",
      "source": [
        "import gradio as gr\n",
        "import numpy as np\n",
        "import pandas as pd\n",
        "from sklearn.cluster import KMeans\n",
        "from sklearn.preprocessing import StandardScaler\n",
        "\n",
        "# Sample dataset (Replace with real data)\n",
        "data = pd.DataFrame({\n",
        "    \"sqft\": [1000, 1500, 2000, 2500, 3000, 3500],\n",
        "    \"bedrooms\": [2, 3, 3, 4, 4, 5],\n",
        "    \"price\": [200000, 250000, 300000, 350000, 400000, 450000]\n",
        "})\n",
        "\n",
        "# Features (excluding price)\n",
        "X = data[[\"sqft\", \"bedrooms\"]]\n",
        "\n",
        "# Standardize the features\n",
        "scaler = StandardScaler()\n",
        "X_scaled = scaler.fit_transform(X)\n",
        "\n",
        "# Apply K-Means Clustering (3 clusters: Low, Medium, High)\n",
        "kmeans = KMeans(n_clusters=3, random_state=42, n_init=10)\n",
        "data[\"cluster\"] = kmeans.fit_predict(X_scaled)\n",
        "\n",
        "# Define Cluster Labels\n",
        "cluster_labels = {\n",
        "    np.argmin(kmeans.cluster_centers_[:, 0]): \"Low Price\",\n",
        "    np.argsort(kmeans.cluster_centers_[:, 0])[1]: \"Medium Price\",\n",
        "    np.argmax(kmeans.cluster_centers_[:, 0]): \"High Price\"\n",
        "}\n",
        "\n",
        "# Prediction Function\n",
        "def predict_cluster(sqft, bedrooms):\n",
        "    input_data = np.array([[sqft, bedrooms]])\n",
        "    input_scaled = scaler.transform(input_data)\n",
        "    cluster = kmeans.predict(input_scaled)[0]\n",
        "    return f\"Predicted House Price Category: {cluster_labels[cluster]}\"\n",
        "\n",
        "# Gradio Interface\n",
        "iface = gr.Interface(\n",
        "    fn=predict_cluster,\n",
        "    inputs=[gr.Number(label=\"Square Feet\"), gr.Number(label=\"Bedrooms\")],\n",
        "    outputs=gr.Textbox(label=\"Price Category\"),\n",
        "    title=\"House Price Clustering using K-Means\",\n",
        "    description=\"Enter the house details to predict its price category (Low, Medium, High).\"\n",
        ")\n",
        "\n",
        "iface.launch()\n"
      ],
      "metadata": {
        "colab": {
          "base_uri": "https://localhost:8080/",
          "height": 646
        },
        "id": "bHGmKC9_BeKa",
        "outputId": "afc65a90-4e8a-4644-9d76-23defcdcb1b0"
      },
      "execution_count": null,
      "outputs": [
        {
          "output_type": "stream",
          "name": "stdout",
          "text": [
            "Running Gradio in a Colab notebook requires sharing enabled. Automatically setting `share=True` (you can turn this off by setting `share=False` in `launch()` explicitly).\n",
            "\n",
            "Colab notebook detected. To show errors in colab notebook, set debug=True in launch()\n",
            "* Running on public URL: https://f7ad606c6ab3d86798.gradio.live\n",
            "\n",
            "This share link expires in 72 hours. For free permanent hosting and GPU upgrades, run `gradio deploy` from the terminal in the working directory to deploy to Hugging Face Spaces (https://huggingface.co/spaces)\n"
          ]
        },
        {
          "output_type": "display_data",
          "data": {
            "text/plain": [
              "<IPython.core.display.HTML object>"
            ],
            "text/html": [
              "<div><iframe src=\"https://f7ad606c6ab3d86798.gradio.live\" width=\"100%\" height=\"500\" allow=\"autoplay; camera; microphone; clipboard-read; clipboard-write;\" frameborder=\"0\" allowfullscreen></iframe></div>"
            ]
          },
          "metadata": {}
        },
        {
          "output_type": "execute_result",
          "data": {
            "text/plain": []
          },
          "metadata": {},
          "execution_count": 6
        }
      ]
    },
    {
      "cell_type": "code",
      "source": [
        "import gradio as gr\n",
        "import numpy as np\n",
        "from pydub.generators import Sine\n",
        "from pydub import AudioSegment\n",
        "\n",
        "# Generate random notes (MIDI-like) and convert them to an audio waveform\n",
        "def generate_music(length=5, bpm=120):\n",
        "    notes = np.random.choice([261.63, 293.66, 329.63, 349.23, 392.00, 440.00, 493.88], length)  # C4-B4 Notes\n",
        "    note_duration = int((60 / bpm) * 1000)  # Convert BPM to milliseconds\n",
        "\n",
        "    # Generate audio sequence\n",
        "    music = AudioSegment.silent(duration=0)\n",
        "    for note in notes:\n",
        "        tone = Sine(note).to_audio_segment(duration=note_duration)\n",
        "        music += tone\n",
        "\n",
        "    # Export as WAV\n",
        "    output_path = \"generated_music.wav\"\n",
        "    music.export(output_path, format=\"wav\")\n",
        "\n",
        "    return output_path\n",
        "\n",
        "# Gradio Interface\n",
        "iface = gr.Interface(\n",
        "    fn=generate_music,\n",
        "    inputs=[\n",
        "        gr.Slider(4, 16, value=8, label=\"Number of Notes\"),\n",
        "        gr.Slider(60, 180, value=120, label=\"BPM (Tempo)\")\n",
        "    ],\n",
        "    outputs=gr.Audio(label=\"Generated Music\"),\n",
        "    title=\"AI Music Generator (Without Magenta)\",\n",
        "    description=\"Generate simple AI music using randomly selected notes.\"\n",
        ")\n",
        "\n",
        "iface.launch()\n"
      ],
      "metadata": {
        "id": "yb3m6CMYJGsR",
        "outputId": "f30fd42a-2cff-4002-d9a4-46ed67a0a12c",
        "colab": {
          "base_uri": "https://localhost:8080/",
          "height": 646
        }
      },
      "execution_count": null,
      "outputs": [
        {
          "output_type": "stream",
          "name": "stdout",
          "text": [
            "Running Gradio in a Colab notebook requires sharing enabled. Automatically setting `share=True` (you can turn this off by setting `share=False` in `launch()` explicitly).\n",
            "\n",
            "Colab notebook detected. To show errors in colab notebook, set debug=True in launch()\n",
            "* Running on public URL: https://683faf598ba8bc334c.gradio.live\n",
            "\n",
            "This share link expires in 72 hours. For free permanent hosting and GPU upgrades, run `gradio deploy` from the terminal in the working directory to deploy to Hugging Face Spaces (https://huggingface.co/spaces)\n"
          ]
        },
        {
          "output_type": "display_data",
          "data": {
            "text/plain": [
              "<IPython.core.display.HTML object>"
            ],
            "text/html": [
              "<div><iframe src=\"https://683faf598ba8bc334c.gradio.live\" width=\"100%\" height=\"500\" allow=\"autoplay; camera; microphone; clipboard-read; clipboard-write;\" frameborder=\"0\" allowfullscreen></iframe></div>"
            ]
          },
          "metadata": {}
        },
        {
          "output_type": "execute_result",
          "data": {
            "text/plain": []
          },
          "metadata": {},
          "execution_count": 7
        }
      ]
    },
    {
      "cell_type": "code",
      "source": [
        "!pip install gradio --quiet\n"
      ],
      "metadata": {
        "colab": {
          "base_uri": "https://localhost:8080/"
        },
        "id": "V7lMSwn51aVe",
        "outputId": "3fa547e0-8d89-4fee-d4aa-492ac5df28a6"
      },
      "execution_count": null,
      "outputs": [
        {
          "output_type": "stream",
          "name": "stdout",
          "text": [
            "\u001b[2K   \u001b[90m━━━━━━━━━━━━━━━━━━━━━━━━━━━━━━━━━━━━━━━━\u001b[0m \u001b[32m46.2/46.2 MB\u001b[0m \u001b[31m18.0 MB/s\u001b[0m eta \u001b[36m0:00:00\u001b[0m\n",
            "\u001b[2K   \u001b[90m━━━━━━━━━━━━━━━━━━━━━━━━━━━━━━━━━━━━━━━━\u001b[0m \u001b[32m322.2/322.2 kB\u001b[0m \u001b[31m21.9 MB/s\u001b[0m eta \u001b[36m0:00:00\u001b[0m\n",
            "\u001b[2K   \u001b[90m━━━━━━━━━━━━━━━━━━━━━━━━━━━━━━━━━━━━━━━━\u001b[0m \u001b[32m94.9/94.9 kB\u001b[0m \u001b[31m7.2 MB/s\u001b[0m eta \u001b[36m0:00:00\u001b[0m\n",
            "\u001b[2K   \u001b[90m━━━━━━━━━━━━━━━━━━━━━━━━━━━━━━━━━━━━━━━━\u001b[0m \u001b[32m11.3/11.3 MB\u001b[0m \u001b[31m101.8 MB/s\u001b[0m eta \u001b[36m0:00:00\u001b[0m\n",
            "\u001b[2K   \u001b[90m━━━━━━━━━━━━━━━━━━━━━━━━━━━━━━━━━━━━━━━━\u001b[0m \u001b[32m72.0/72.0 kB\u001b[0m \u001b[31m5.5 MB/s\u001b[0m eta \u001b[36m0:00:00\u001b[0m\n",
            "\u001b[2K   \u001b[90m━━━━━━━━━━━━━━━━━━━━━━━━━━━━━━━━━━━━━━━━\u001b[0m \u001b[32m62.3/62.3 kB\u001b[0m \u001b[31m5.0 MB/s\u001b[0m eta \u001b[36m0:00:00\u001b[0m\n",
            "\u001b[?25h"
          ]
        }
      ]
    }
  ]
}