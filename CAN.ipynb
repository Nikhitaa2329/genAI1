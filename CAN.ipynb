{
  "nbformat": 4,
  "nbformat_minor": 0,
  "metadata": {
    "colab": {
      "provenance": [],
      "authorship_tag": "ABX9TyPluQGbtGSaHBMDroVbLJsv",
      "include_colab_link": true
    },
    "kernelspec": {
      "name": "python3",
      "display_name": "Python 3"
    },
    "language_info": {
      "name": "python"
    }
  },
  "cells": [
    {
      "cell_type": "markdown",
      "metadata": {
        "id": "view-in-github",
        "colab_type": "text"
      },
      "source": [
        "<a href=\"https://colab.research.google.com/github/Nikhitaa2329/genAI1/blob/main/CAN.ipynb\" target=\"_parent\"><img src=\"https://colab.research.google.com/assets/colab-badge.svg\" alt=\"Open In Colab\"/></a>"
      ]
    },
    {
      "cell_type": "code",
      "execution_count": 1,
      "metadata": {
        "colab": {
          "base_uri": "https://localhost:8080/"
        },
        "id": "rsnVlEKVMeCX",
        "outputId": "6e3cd91c-fa13-4210-da26-afda6a4f7f8d"
      },
      "outputs": [
        {
          "output_type": "stream",
          "name": "stdout",
          "text": [
            "Collecting python-can\n",
            "  Downloading python_can-4.5.0-py3-none-any.whl.metadata (8.9 kB)\n",
            "Requirement already satisfied: wrapt~=1.10 in /usr/local/lib/python3.11/dist-packages (from python-can) (1.17.2)\n",
            "Requirement already satisfied: packaging>=23.1 in /usr/local/lib/python3.11/dist-packages (from python-can) (24.2)\n",
            "Requirement already satisfied: typing_extensions>=3.10.0.0 in /usr/local/lib/python3.11/dist-packages (from python-can) (4.13.1)\n",
            "Requirement already satisfied: msgpack~=1.1.0 in /usr/local/lib/python3.11/dist-packages (from python-can) (1.1.0)\n",
            "Downloading python_can-4.5.0-py3-none-any.whl (268 kB)\n",
            "\u001b[2K   \u001b[90m━━━━━━━━━━━━━━━━━━━━━━━━━━━━━━━━━━━━━━━━\u001b[0m \u001b[32m269.0/269.0 kB\u001b[0m \u001b[31m4.1 MB/s\u001b[0m eta \u001b[36m0:00:00\u001b[0m\n",
            "\u001b[?25hInstalling collected packages: python-can\n",
            "Successfully installed python-can-4.5.0\n",
            "Sending CAN message...\n",
            "Message sent on Virtual bus channel None\n",
            "Waiting to receive message...\n"
          ]
        },
        {
          "output_type": "stream",
          "name": "stderr",
          "text": [
            "<ipython-input-1-7b47d7736c33>:6: DeprecationWarning: The 'bustype' argument is deprecated since python-can v4.2.0, and scheduled for removal in python-can v5.0.0. Use 'interface' instead.\n",
            "  bus = can.interface.Bus(bustype='virtual')\n"
          ]
        },
        {
          "output_type": "stream",
          "name": "stdout",
          "text": [
            "No message received.\n"
          ]
        }
      ],
      "source": [
        "!pip install python-can\n",
        "import can\n",
        "import time\n",
        "\n",
        "# Create a virtual CAN interface for testing\n",
        "bus = can.interface.Bus(bustype='virtual')\n",
        "\n",
        "# Define a CAN message\n",
        "msg = can.Message(\n",
        "    arbitration_id=0x123,  # CAN ID\n",
        "    data=[0x11, 0x22, 0x33, 0x44],  # Message data (up to 8 bytes)\n",
        "    is_extended_id=False  # Standard frame (11-bit ID)\n",
        ")\n",
        "\n",
        "try:\n",
        "    print(\"Sending CAN message...\")\n",
        "    bus.send(msg)\n",
        "    print(f\"Message sent on {bus.channel_info}\")\n",
        "\n",
        "    print(\"Waiting to receive message...\")\n",
        "    received_msg = bus.recv(timeout=2.0)  # wait up to 2 seconds\n",
        "    if received_msg:\n",
        "        print(f\"Received message: {received_msg}\")\n",
        "    else:\n",
        "        print(\"No message received.\")\n",
        "\n",
        "except can.CanError as e:\n",
        "    print(f\"CAN Error: {e}\")"
      ]
    }
  ]
}