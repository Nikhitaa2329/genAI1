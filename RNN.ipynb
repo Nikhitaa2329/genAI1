{
  "nbformat": 4,
  "nbformat_minor": 0,
  "metadata": {
    "colab": {
      "provenance": [],
      "authorship_tag": "ABX9TyOOTYfUGUb81rQ/nizCNmSM",
      "include_colab_link": true
    },
    "kernelspec": {
      "name": "python3",
      "display_name": "Python 3"
    },
    "language_info": {
      "name": "python"
    }
  },
  "cells": [
    {
      "cell_type": "markdown",
      "metadata": {
        "id": "view-in-github",
        "colab_type": "text"
      },
      "source": [
        "<a href=\"https://colab.research.google.com/github/Nikhitaa2329/genAI1/blob/main/RNN.ipynb\" target=\"_parent\"><img src=\"https://colab.research.google.com/assets/colab-badge.svg\" alt=\"Open In Colab\"/></a>"
      ]
    },
    {
      "cell_type": "code",
      "execution_count": 2,
      "metadata": {
        "colab": {
          "base_uri": "https://localhost:8080/"
        },
        "id": "CBCyAykKNqby",
        "outputId": "50fc975d-8379-49e9-f414-717a5630716b"
      },
      "outputs": [
        {
          "output_type": "stream",
          "name": "stdout",
          "text": [
            "Epoch 1 | Loss: 0.3191\n",
            "Epoch 2 | Loss: 0.0256\n",
            "Epoch 3 | Loss: 0.0352\n",
            "Epoch 4 | Loss: 0.0813\n",
            "Epoch 5 | Loss: 0.1199\n",
            "Epoch 6 | Loss: 0.0027\n",
            "Epoch 7 | Loss: 0.0358\n",
            "Epoch 8 | Loss: 0.1031\n",
            "Epoch 9 | Loss: 0.0190\n",
            "Epoch 10 | Loss: 0.0153\n",
            "Predicted class: 1\n"
          ]
        }
      ],
      "source": [
        "# Install PyTorch if not already installed (in Colab, usually pre-installed)\n",
        "# !pip install torch\n",
        "\n",
        "import torch\n",
        "import torch.nn as nn\n",
        "import torch.optim as optim\n",
        "import numpy as np\n",
        "from torch.utils.data import TensorDataset, DataLoader\n",
        "\n",
        "# Check for GPU\n",
        "device = torch.device(\"cuda\" if torch.cuda.is_available() else \"cpu\")\n",
        "\n",
        "# Generate dummy sequence data: more 1s → class 1, more 0s → class 0\n",
        "def generate_data(num_samples=1000, seq_len=10):\n",
        "    X = []\n",
        "    y = []\n",
        "    for _ in range(num_samples):\n",
        "        seq = np.random.randint(0, 2, size=seq_len)\n",
        "        label = int(seq.sum() > seq_len // 2)\n",
        "        X.append(seq)\n",
        "        y.append(label)\n",
        "    return np.array(X), np.array(y)\n",
        "\n",
        "# Generate data\n",
        "X, y = generate_data()\n",
        "\n",
        "# Convert to PyTorch tensors\n",
        "X_tensor = torch.tensor(X, dtype=torch.float32).unsqueeze(-1)  # Shape: (batch, seq_len, 1)\n",
        "y_tensor = torch.tensor(y, dtype=torch.long)\n",
        "\n",
        "# Create dataset and dataloader\n",
        "dataset = TensorDataset(X_tensor, y_tensor)\n",
        "loader = DataLoader(dataset, batch_size=32, shuffle=True)\n",
        "\n",
        "# Define the RNN model\n",
        "class SimpleRNN(nn.Module):\n",
        "    def __init__(self, input_size=1, hidden_size=16, num_layers=1, num_classes=2):\n",
        "        super(SimpleRNN, self).__init__()\n",
        "        self.rnn = nn.RNN(input_size, hidden_size, num_layers, batch_first=True)\n",
        "        self.fc = nn.Linear(hidden_size, num_classes)\n",
        "\n",
        "    def forward(self, x):\n",
        "        out, _ = self.rnn(x)\n",
        "        out = out[:, -1, :]  # Get output from last time step\n",
        "        out = self.fc(out)\n",
        "        return out\n",
        "\n",
        "# Initialize model, loss function, and optimizer\n",
        "model = SimpleRNN().to(device)\n",
        "criterion = nn.CrossEntropyLoss()\n",
        "optimizer = optim.Adam(model.parameters(), lr=0.01)\n",
        "\n",
        "# Training loop\n",
        "for epoch in range(10):\n",
        "    for inputs, labels in loader:\n",
        "        inputs, labels = inputs.to(device), labels.to(device)\n",
        "\n",
        "        outputs = model(inputs)\n",
        "        loss = criterion(outputs, labels)\n",
        "\n",
        "        optimizer.zero_grad()\n",
        "        loss.backward()\n",
        "        optimizer.step()\n",
        "\n",
        "    print(f\"Epoch {epoch+1} | Loss: {loss.item():.4f}\")\n",
        "\n",
        "# Test the model on a custom sequence\n",
        "test_seq = np.array([[1, 0, 1, 1, 0, 1, 1, 1, 0, 0]])  # Should be class 1\n",
        "test_tensor = torch.tensor(test_seq, dtype=torch.float32).unsqueeze(-1).to(device)\n",
        "\n",
        "with torch.no_grad():\n",
        "    pred = model(test_tensor)\n",
        "    predicted_class = torch.argmax(pred, dim=1).item()\n",
        "\n",
        "print(f\"Predicted class: {predicted_class}\")\n"
      ]
    }
  ]
}